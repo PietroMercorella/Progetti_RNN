{
 "cells": [
  {
   "cell_type": "code",
   "execution_count": 91,
   "metadata": {},
   "outputs": [
    {
     "name": "stdout",
     "output_type": "stream",
     "text": [
      "/home/michieletto/venv_pmerc/bin/python\n"
     ]
    }
   ],
   "source": [
    "import sys\n",
    "print(sys.executable)\n"
   ]
  },
  {
   "cell_type": "code",
   "execution_count": 92,
   "metadata": {},
   "outputs": [],
   "source": [
    "# !pip install transformers   #Installare libreria transformers per usare librerie di Bert\n",
    "# !pip install pandas\n",
    "# !pip install torch\n",
    "# !pip install scipy\n",
    "# !pip install scikit-learn\n",
    "# !pip install ipywidgets\n",
    "# !pip install matplotlib\n"
   ]
  },
  {
   "cell_type": "code",
   "execution_count": 93,
   "metadata": {},
   "outputs": [],
   "source": [
    "import sys\n",
    "\n",
    "sys.path.append('/home/michieletto/hmp_utils')\n",
    "if '../' not in sys.path:\n",
    "    sys.path.append('../')"
   ]
  },
  {
   "cell_type": "code",
   "execution_count": 94,
   "metadata": {},
   "outputs": [],
   "source": [
    "import json\n",
    "import glob\n",
    "import os\n",
    "import random\n",
    "\n",
    "from hmp_utils.motion.body_models_constants import SmplConstants\n",
    "from hmp_utils.motion.mocap_processor import MocapLoader\n",
    "from hmp_utils.motion.kinematics import ForwardKinematics\n",
    "from hmp_utils.visualize.stickman_animation import pose_animation, CameraOrientation, AnimationMode\n",
    "\n",
    "import torch\n",
    "from transformers import BertModel, BertTokenizer, AdamW, get_linear_schedule_with_warmup\n",
    "from torch.utils.data import Dataset, DataLoader\n",
    "\n",
    "from sklearn.model_selection import train_test_split\n",
    "import torch.nn as nn\n",
    "import torch.optim as optim\n",
    "import tqdm\n",
    "import numpy as np\n",
    "import pandas as pd\n",
    "import time"
   ]
  },
  {
   "cell_type": "markdown",
   "metadata": {},
   "source": [
    " Creazione del dataset di Bert: dizionario con tutte le informazioni contenute nei file"
   ]
  },
  {
   "cell_type": "code",
   "execution_count": 95,
   "metadata": {},
   "outputs": [],
   "source": [
    "dataset = []\n",
    "\n",
    "# Definisci il percorso completo del file JSON\n",
    "percorso_file_train = '/home/michieletto/datasets/BABEL_DATASET/babel_v1.0_release/train.json'\n",
    "percorso_file_val   = '/home/michieletto/datasets/BABEL_DATASET/babel_v1.0_release/val.json'\n",
    "percorso_file_test  = '/home/michieletto/datasets/BABEL_DATASET/babel_v1.0_release/test.json'\n",
    "\n",
    "dataset.append(percorso_file_train)\n",
    "dataset.append(percorso_file_val)\n",
    "dataset.append(percorso_file_test)\n",
    "\n",
    "data = {}           # Dizionario contenente l'intero dataset  \n",
    "\n",
    "# Apre il file JSON in modalità lettura\n",
    "for i,percorso_file in enumerate(dataset):\n",
    "    with open(percorso_file, 'r') as f:\n",
    "        # Carica i dati JSON\n",
    "        data.update(json.load(f))\n"
   ]
  },
  {
   "cell_type": "markdown",
   "metadata": {},
   "source": [
    "Estrazione dal dataset delle informzaioni essenziali: raw_label e feat_p (percorso file)"
   ]
  },
  {
   "cell_type": "code",
   "execution_count": 96,
   "metadata": {},
   "outputs": [
    {
     "name": "stdout",
     "output_type": "stream",
     "text": [
      "Dati totali:  10892\n",
      "Dati con label:  8808\n",
      "Dati senza label: 2084\n",
      "num label, paths: 8808 8808\n"
     ]
    }
   ],
   "source": [
    "\n",
    "occur_lab = {\n",
    "    'label': [],              \n",
    "    'feat_p': []\n",
    "    }\n",
    "\n",
    "no_lab = 0\n",
    "\n",
    "# Creazione del dataset contenente tutte le raw_label, passaggi cartelle e le action\n",
    "for i, k in enumerate(data.keys()):\n",
    "    label = data[k][\"seq_ann\"][\"labels\"][0][\"raw_label\"]\n",
    "    feat_p = data[k][\"feat_p\"]\n",
    "\n",
    "    if label is not None:\n",
    "        occur_lab[\"label\"].append(label)\n",
    "        occur_lab[\"feat_p\"].append(feat_p)\n",
    "    else:\n",
    "        no_lab += 1\n",
    "            \n",
    "\n",
    "print(\"Dati totali: \", len(data))\n",
    "print(\"Dati con label: \", len(occur_lab[\"label\"]))\n",
    "print(\"Dati senza label:\", no_lab)\n",
    "print(\"num label, paths:\", len(occur_lab[\"label\"]), len(occur_lab[\"feat_p\"]))\n"
   ]
  },
  {
   "cell_type": "markdown",
   "metadata": {},
   "source": [
    "Creazione del dataset Amass ed estrazione random di un file per verificare se e come viene descritto da Babel (valutando se i percorsi file /ultima_cartella/nome_file.npz corrispondono)"
   ]
  },
  {
   "cell_type": "code",
   "execution_count": 97,
   "metadata": {},
   "outputs": [
    {
     "name": "stdout",
     "output_type": "stream",
     "text": [
      "4484\n"
     ]
    }
   ],
   "source": [
    "\n",
    "directory = '/home/michieletto/datasets/AMASS_H/ACCAD'\n",
    "file_paths = glob.glob(directory + '/**/*.npz', recursive=True) # ottiene tutti i file nelle diverse cartelle contenenti i mocap in una stringa\n",
    "\n",
    "directory = '/home/michieletto/datasets/AMASS_H/KIT'\n",
    "file_paths += glob.glob(directory + '/**/*.npz', recursive=True)\n",
    "\n",
    "file_paths = sorted(file_paths)\n",
    "print(len(file_paths))\n",
    "\n",
    "rand_x = random.randint(0, len(file_paths))\n",
    "filepath = file_paths[rand_x]\n",
    "\n",
    "file_name = os.path.basename(filepath)    # ottiene il nome del file\n",
    "folder_path = os.path.dirname(filepath)   # ottiene il percorso fino alla cartella in cui è contenuto il file\n",
    "last_folder_name = os.path.basename(folder_path)     # ottiene il nome dell'ultima cartella\n",
    "last_folder_and_file_name = os.path.join('/', last_folder_name, file_name)     # unisce i due nomi\n",
    "\n",
    "for i in range(len(occur_lab[\"feat_p\"])):\n",
    "    if last_folder_and_file_name in occur_lab[\"feat_p\"][i]:\n",
    "        print(occur_lab[\"label\"][i], occur_lab[\"feat_p\"][i], last_folder_and_file_name)\n",
    "\n"
   ]
  },
  {
   "cell_type": "markdown",
   "metadata": {},
   "source": [
    "Creazione del MocapLoader ed estrazione dai file di Amass i frame in forma di matrici 24x3. Successivamente c'è la visualizzazione del primo frame del mocap estratto precedentemente ed il suo viedo."
   ]
  },
  {
   "cell_type": "code",
   "execution_count": 98,
   "metadata": {},
   "outputs": [
    {
     "name": "stdout",
     "output_type": "stream",
     "text": [
      "4483\n"
     ]
    }
   ],
   "source": [
    "\n",
    "frame_to_plot = 1\n",
    "\n",
    "# -- load mocap --\n",
    "mocap_loader=MocapLoader(body_model_type=SmplConstants.BODY_MODEL_TYPE,\n",
    "                         keypoint_ids_to_load=SmplConstants.KEYPOINTS,\n",
    "                         target_framerate = 25)\n",
    "\n",
    "motions = []\n",
    "motions = [mocap_loader.load_mocap(path) for path in file_paths]     # lista delle classi di tutti i mocap\n",
    "motion = motions[rand_x]     # selezione casuale di un mocap\n",
    "assert motion is not None\n",
    "\n",
    "# -- compute joint positions --\n",
    "kine = ForwardKinematics(SmplConstants.OFFSETS, SmplConstants.PARENTS)\n",
    "kine.set_body_model_type(SmplConstants.BODY_MODEL_TYPE)\n",
    "\n",
    "all_keypoints_positions = []\n",
    "for motion in motions:\n",
    "    if motion is not None:\n",
    "        all_keypoints_positions.append(kine.compute_fk(motion.rots, apply_root_rotation=True))\n",
    "\n",
    "# all_keypoints_positions = [kine.compute_fk(motion.rots, apply_root_rotation=True) for motion in motions]\n",
    "keypoints_positions = all_keypoints_positions[rand_x][frame_to_plot]\n",
    "print(len(all_keypoints_positions))\n",
    "\n",
    "# -- plot --\n",
    "# plot_body_keypoints(keypoints_positions, SmplConstants.PARENTS, azimuth=0, keypoint_size = 5, link_size=1, \n",
    "#                     show_keypoint_id=True, body_rotation=(0,0,45))"
   ]
  },
  {
   "cell_type": "code",
   "execution_count": 99,
   "metadata": {},
   "outputs": [
    {
     "name": "stdout",
     "output_type": "stream",
     "text": [
      "(147, 24, 3)\n"
     ]
    }
   ],
   "source": [
    "keypoints_positions = all_keypoints_positions[rand_x][:250]\n",
    "print(keypoints_positions.shape)\n",
    "\n",
    "motions_list = [keypoints_positions]\n",
    "subplot_ids = [0]\n",
    "subplot_titles = ['Amass']\n",
    "camera_orientations = [CameraOrientation(100, 20)]\n",
    "# pose_animation(motions_list, SmplConstants.PARENTS, animation_framerate = 25, subplot_ids=subplot_ids, \n",
    "#                camera_orientations=camera_orientations, subplot_titles=subplot_titles,\n",
    "#                fig_opts={'dpi':90}, animation_mode=AnimationMode.HTML)"
   ]
  },
  {
   "cell_type": "markdown",
   "metadata": {},
   "source": [
    "Estrazione dall'intero dataset di Amass di 75 frame per mocap e ridimensionamento di questi da 24x3 a 72."
   ]
  },
  {
   "cell_type": "code",
   "execution_count": 100,
   "metadata": {},
   "outputs": [
    {
     "name": "stdout",
     "output_type": "stream",
     "text": [
      "Numero di mocap non validi: 131\n",
      "Il numero totale di frame è: 326475\n"
     ]
    }
   ],
   "source": [
    "frame_vocab = []\n",
    "deleted_paths = []\n",
    "\n",
    "cont = 0\n",
    "for i in range(len(motions)):\n",
    "    if motions[i] is not None:\n",
    "        if len(motions[i].rots) >= 75:\n",
    "            rand_x = random.randint(0, len(motions[i].rots) - 75)\n",
    "            frame_vocab.append(motions[i].rots[rand_x:rand_x + 75])\n",
    "            assert len(frame_vocab[-1]) == 75\n",
    "\n",
    "            frame_vocab[-1] = [[angle for k_point in frame for angle in k_point] for frame in frame_vocab[-1]]\n",
    "            assert len(frame_vocab[-1][0]) == 72\n",
    "        else:\n",
    "            frame_vocab.append([])\n",
    "            deleted_paths.append(i)\n",
    "            cont +=1\n",
    "    else:\n",
    "        frame_vocab.append([])\n",
    "        deleted_paths.append(i)\n",
    "        cont += 1\n",
    "\n",
    "\n",
    "sum = 0\n",
    "for i in range(len(frame_vocab)):\n",
    "    sum += len(frame_vocab[i])\n",
    "\n",
    "print(f\"Numero di mocap non validi: {cont}\")\n",
    "print(f\"Il numero totale di frame è: {sum}\")"
   ]
  },
  {
   "cell_type": "code",
   "execution_count": 101,
   "metadata": {},
   "outputs": [
    {
     "name": "stdout",
     "output_type": "stream",
     "text": [
      "2726 2726\n"
     ]
    }
   ],
   "source": [
    "dataset = {\n",
    "    'pose': [],\n",
    "    'description': [],\n",
    "}\n",
    "\n",
    "for i in range(len(file_paths)):\n",
    "    if i not in deleted_paths:\n",
    "        filepath = file_paths[i]\n",
    "\n",
    "        file_name = os.path.basename(filepath)    # ottiene il nome del file\n",
    "        folder_path = os.path.dirname(filepath)   # ottiene il percorso fino alla cartella in cui è contenuto il file\n",
    "        last_folder_name = os.path.basename(folder_path)     # ottiene il nome dell'ultima cartella\n",
    "        last_folder_and_file_name = os.path.join('/', last_folder_name, file_name)     # unisce i due nomi\n",
    "        \n",
    "        for j in range(len(occur_lab[\"feat_p\"])):\n",
    "            if last_folder_and_file_name in occur_lab[\"feat_p\"][j]:\n",
    "                dataset[\"pose\"].append(frame_vocab[i])\n",
    "                dataset[\"description\"].append(occur_lab[\"label\"][j])\n",
    "\n",
    "dataset = pd.DataFrame(dataset)\n",
    "dataset_copy = dataset.copy()\n",
    "\n",
    "print(len(dataset['pose']), len(dataset['description']))\n"
   ]
  },
  {
   "cell_type": "code",
   "execution_count": 102,
   "metadata": {},
   "outputs": [
    {
     "name": "stdout",
     "output_type": "stream",
     "text": [
      "75 72\n",
      "75 72\n"
     ]
    }
   ],
   "source": [
    "print(len(dataset[\"pose\"][0]), len(dataset[\"pose\"][0][0]))\n",
    "print(len(dataset_copy[\"pose\"][0]), len(dataset_copy[\"pose\"][0][0]))"
   ]
  },
  {
   "cell_type": "code",
   "execution_count": 103,
   "metadata": {},
   "outputs": [],
   "source": [
    "# Funzione per eliminare una colonna da ogni matrice\n",
    "def elimina_colonna(matrice, indexes_to_exclude):\n",
    "\n",
    "    return [np.delete(row, indexes_to_exclude) for row in matrice]\n",
    "\n",
    "indexes_to_exclude = [0,1,2, 30,31,32, 33,34,35, 66,67,68, 69,70,71] # Indici corrispondenti ai keypoint 0,10,11,22,23\n",
    "# Applica la funzione a ogni elemento del DataFrame\n",
    "dataset[\"pose\"] = dataset[\"pose\"].apply(elimina_colonna, indexes_to_exclude = indexes_to_exclude)\n",
    "\n",
    "# indexes_to_exclude = [0,1,2, 30,31,32, 33,34,35, 66,67,68, 69,70,71] # Indici corrispondenti ai keypoint 0,10,11,22,23\n",
    "\n",
    "# for i in range(len(dataset[\"pose\"])):\n",
    "#     for j in range(len(dataset.iloc[i][\"pose\"])):\n",
    "#         dataset.iloc[i][\"pose\"][j] = [item for idx, item in enumerate(dataset.iloc[i][\"pose\"][j]) if idx not in indexes_to_exclude]\n",
    "#         assert len(dataset.iloc[i][\"pose\"][j]) == 57"
   ]
  },
  {
   "cell_type": "code",
   "execution_count": 104,
   "metadata": {},
   "outputs": [
    {
     "name": "stdout",
     "output_type": "stream",
     "text": [
      "75 57\n",
      "75 72\n"
     ]
    }
   ],
   "source": [
    "print(len(dataset[\"pose\"][0]), len(dataset[\"pose\"][0][0]))\n",
    "print(len(dataset_copy[\"pose\"][0]), len(dataset_copy[\"pose\"][0][0]))"
   ]
  },
  {
   "cell_type": "markdown",
   "metadata": {},
   "source": [
    "Divisione del dataset"
   ]
  },
  {
   "cell_type": "code",
   "execution_count": 105,
   "metadata": {},
   "outputs": [
    {
     "name": "stdout",
     "output_type": "stream",
     "text": [
      "75 57\n"
     ]
    }
   ],
   "source": [
    "# Random seed for reproducibilty\n",
    "RANDOM_SEED = 42\n",
    "np.random.seed(RANDOM_SEED)\n",
    "torch.manual_seed(RANDOM_SEED)\n",
    "print(len(dataset[\"pose\"][0]), len(dataset[\"pose\"][0][0]))\n",
    "# Dataset Amass\n",
    "# train_data, test_data = train_test_split(dataset, test_size=0.2, random_state=RANDOM_SEED)\n",
    "# valid_data, test_data = train_test_split(test_data, test_size=0.5, random_state=RANDOM_SEED)\n",
    "\n",
    "# print(len(train_data[\"pose\"][0]), len(train_data[\"pose\"][0][0]))\n",
    "# print(len(dataset_copy[\"pose\"][0]), len(dataset_copy[\"pose\"][0][0]))\n"
   ]
  },
  {
   "cell_type": "markdown",
   "metadata": {},
   "source": [
    "Data preprocessing"
   ]
  },
  {
   "cell_type": "code",
   "execution_count": 106,
   "metadata": {},
   "outputs": [
    {
     "name": "stderr",
     "output_type": "stream",
     "text": [
      "Truncation was not explicitly activated but `max_length` is provided a specific value, please use `truncation=True` to explicitly truncate examples to max length. Defaulting to 'longest_first' truncation strategy. If you encode pairs of sequences (GLUE-style) with the tokenizer you can select this strategy more precisely by providing a specific strategy to `truncation`.\n"
     ]
    }
   ],
   "source": [
    "# Set the model name\n",
    "MODEL_NAME = 'bert-base-cased'\n",
    "\n",
    "# Build a BERT based tokenizer\n",
    "tokenizer = BertTokenizer.from_pretrained(MODEL_NAME)\n",
    "\n",
    "# Store length of each review\n",
    "token_lens = []\n",
    "\n",
    "# Iterate through the content slide\n",
    "for txt in dataset[\"description\"]:\n",
    "    tokens = tokenizer.encode(txt, max_length=512)  #Capire la scelta del numero\n",
    "    token_lens.append(len(tokens))\n",
    "\n",
    "MAX_LEN = 10"
   ]
  },
  {
   "cell_type": "markdown",
   "metadata": {},
   "source": [
    "Creazione dei dataloader per il dataset considerando le label"
   ]
  },
  {
   "cell_type": "code",
   "execution_count": 107,
   "metadata": {},
   "outputs": [],
   "source": [
    "class GPLabelDataset(Dataset):\n",
    "    # Constructor Function\n",
    "    def __init__(self, pose, labs, tokenizer, max_len):\n",
    "        self.pose = pose\n",
    "        self.labs = labs\n",
    "        self.tokenizer = tokenizer\n",
    "        self.max_len = max_len\n",
    "\n",
    "    # Length magic method\n",
    "    def __len__(self):\n",
    "        return len(self.labs)\n",
    "\n",
    "    # get item magic method\n",
    "    def __getitem__(self, item):\n",
    "        lab = str(self.labs[item])\n",
    "        pose = self.pose.iloc[item]\n",
    "        \n",
    "        # Encoded format to be returned\n",
    "        encoding = self.tokenizer.encode_plus(\n",
    "            lab,\n",
    "            add_special_tokens=True,\n",
    "            max_length=self.max_len,\n",
    "            return_token_type_ids=False,\n",
    "            pad_to_max_length=True,\n",
    "            return_attention_mask=True,\n",
    "            return_tensors='pt',\n",
    "        )\n",
    "\n",
    "        return {\n",
    "            'pose': pose,\n",
    "            'raw_label': lab,\n",
    "            'input_ids': encoding['input_ids'].flatten(),\n",
    "            'attention_mask': encoding['attention_mask'].flatten(),\n",
    "        }"
   ]
  },
  {
   "cell_type": "markdown",
   "metadata": {},
   "source": [
    "Creazione dei dataloader per il dataset considerando le pose"
   ]
  },
  {
   "cell_type": "code",
   "execution_count": 108,
   "metadata": {},
   "outputs": [],
   "source": [
    "def get_collate_fn():\n",
    "    def collate_fn(batch):\n",
    "        # Il batch si presenta come una lista di 32 dizionari, ognuno dei quali ha 4 chiavi: pose, raw_label, \n",
    "        # input_id e attention_mask. La posa inoltre è una matrice 75x72. Voglio quindi convertire gli ordini\n",
    "        # in cui il batch sia un dizionario di 4 chiavi in ognuna delle quali ci sono tutte le informazioni raccolte insieme.\n",
    "        reformed_batch = {\n",
    "            'pose': [],\n",
    "            'raw_label': [],\n",
    "            'input_ids': [],\n",
    "            'attention_mask': []\n",
    "        }\n",
    "        \n",
    "        for i in range(len(batch)):\n",
    "            reformed_batch[\"pose\"].append(batch[i][\"pose\"])\n",
    "            reformed_batch[\"raw_label\"].append(batch[i][\"raw_label\"])\n",
    "            reformed_batch[\"input_ids\"].append(batch[i][\"input_ids\"].tolist())\n",
    "            reformed_batch[\"attention_mask\"].append(batch[i][\"attention_mask\"].tolist())\n",
    "\n",
    "        \n",
    "        reformed_batch[\"input_ids\"] = torch.tensor(reformed_batch[\"input_ids\"])\n",
    "        reformed_batch[\"attention_mask\"] = torch.tensor(reformed_batch[\"attention_mask\"])\n",
    "\n",
    "        reformed_batch[\"pose\"] = [[row[i] for row in reformed_batch[\"pose\"]] for i in range(len(reformed_batch[\"pose\"][0]))]\n",
    "        reformed_batch[\"pose\"] = np.array(reformed_batch[\"pose\"])\n",
    "        reformed_batch[\"pose\"] = torch.tensor(reformed_batch[\"pose\"])\n",
    "        reformed_batch[\"pose\"] = reformed_batch[\"pose\"].float()\n",
    "        \n",
    "        return reformed_batch\n",
    "\n",
    "    return collate_fn"
   ]
  },
  {
   "cell_type": "code",
   "execution_count": 109,
   "metadata": {},
   "outputs": [],
   "source": [
    "def get_data_loader(dataset, batch_size, max_len, shuffle=False):\n",
    "    dataset = GPLabelDataset( # al posto di dataset nell'originale c'era ds\n",
    "        pose = dataset.pose,\n",
    "        labs=dataset.description.to_numpy(),\n",
    "        tokenizer=tokenizer,\n",
    "        max_len=max_len\n",
    "    )\n",
    "\n",
    "    collate_fn = get_collate_fn()\n",
    "\n",
    "    data_loader = DataLoader(\n",
    "        dataset=dataset,\n",
    "        batch_size=batch_size,\n",
    "        collate_fn=collate_fn,\n",
    "        shuffle=shuffle,\n",
    "    )\n",
    "    \n",
    "    return data_loader"
   ]
  },
  {
   "cell_type": "code",
   "execution_count": 110,
   "metadata": {},
   "outputs": [],
   "source": [
    "batch_size = 64\n",
    "\n",
    "# train_data_loader = get_data_loader(train_data, batch_size, MAX_LEN)\n",
    "# valid_data_loader = get_data_loader(valid_data, batch_size, MAX_LEN)\n",
    "# test_data_loader = get_data_loader(test_data, batch_size, MAX_LEN)\n",
    "\n",
    "# batch = next(iter(train_data_loader))\n",
    "# print(batch.keys())\n",
    "# print(batch[\"pose\"].shape)\n",
    "# print(batch[\"input_ids\"].shape)\n",
    "# print(batch[\"attention_mask\"].shape)\n",
    "\n",
    "\n",
    "\n",
    "# Controllo che i batch non abbiano cambiato l'ordine delle pose\n",
    "# print(batch[25][0][0].dtype, type(train_data.iloc[25]['pose'][0][0]))\n",
    "# print((batch.permute(1, 0, 2))[25][0][50] == train_data.iloc[25]['pose'][0][50])\n",
    "\n",
    "# print(((batch.permute(1, 0, 2))[25]).tolist() == train_data.iloc[25]['pose'])\n",
    "# cont = 0\n",
    "# a=0\n",
    "# for batch in train_data_loader_pose:\n",
    "#     for i in range(len(batch.permute(1, 0, 2))):\n",
    "#         if ((batch.permute(1, 0, 2))[i]).tolist() == train_data.iloc[i+cont]['pose']:\n",
    "#             a+=1\n",
    "#     cont+=32\n",
    "# print(a, len(train_data))\n"
   ]
  },
  {
   "cell_type": "markdown",
   "metadata": {},
   "source": [
    "Costruzione rete RNN: Bert, Encoder e decoder"
   ]
  },
  {
   "cell_type": "markdown",
   "metadata": {},
   "source": [
    "# Rete RNN"
   ]
  },
  {
   "cell_type": "code",
   "execution_count": 111,
   "metadata": {},
   "outputs": [],
   "source": [
    "\n",
    "# Build the Sentiment Classifier class\n",
    "class ActionClassifier(nn.Module): \n",
    "\n",
    "    # Constructor class\n",
    "    def __init__(self):\n",
    "        super(ActionClassifier, self).__init__()\n",
    "        self.bert = BertModel.from_pretrained(MODEL_NAME)\n",
    "        self.drop = nn.Dropout(p=0.5)\n",
    "\n",
    "    # Forward propagaion class\n",
    "    def forward(self, input_ids, attention_mask):\n",
    "        _, pooled_output = self.bert(\n",
    "          input_ids=input_ids,\n",
    "          attention_mask=attention_mask,\n",
    "          return_dict=False\n",
    "        )\n",
    "        #  Add a dropout layer\n",
    "        hidden = self.drop(pooled_output)\n",
    "        return hidden"
   ]
  },
  {
   "cell_type": "code",
   "execution_count": 112,
   "metadata": {},
   "outputs": [],
   "source": [
    "class Encoder(nn.Module):\n",
    "    def __init__(self, dense_vector_dim, hidden_dim, n_layers, dropout):\n",
    "        super().__init__()\n",
    "        self.hidden_dim = hidden_dim\n",
    "        self.n_layers = n_layers\n",
    "        self.rnn = nn.LSTM(dense_vector_dim + 768, hidden_dim, n_layers, dropout=dropout)\n",
    "\n",
    "    def forward(self, src):\n",
    "        \n",
    "        # src = [src length, batch size, dense_vector_dim]\n",
    "        outputs, (hidden, cell) = self.rnn(src)\n",
    "        # outputs = [src length, batch size, hidden dim * n directions]\n",
    "        # hidden = [n layers * n directions, batch size, hidden dim]\n",
    "        # cell = [n layers * n directions, batch size, hidden dim]\n",
    "        # outputs are always from the top hidden layer\n",
    "        return hidden, cell"
   ]
  },
  {
   "cell_type": "code",
   "execution_count": 113,
   "metadata": {},
   "outputs": [],
   "source": [
    "class Decoder(nn.Module):\n",
    "    def __init__(self, dense_vector_dim, hidden_dim, n_layers, dropout):\n",
    "        super().__init__()\n",
    "        self.output_dim = dense_vector_dim\n",
    "        self.hidden_dim = hidden_dim\n",
    "        self.n_layers = n_layers\n",
    "        self.rnn = nn.LSTM(dense_vector_dim + 768, hidden_dim, n_layers, dropout=dropout)\n",
    "        self.fc_out = nn.Linear(hidden_dim, dense_vector_dim)\n",
    "\n",
    "    def forward(self, input, hidden, cell):\n",
    "        # input = [batch size, dense_vector_dim + 768]\n",
    "        # hidden = [n layers * n directions, batch size, hidden dim]\n",
    "        # cell = [n layers * n directions, batch size, hidden dim]\n",
    "        # n directions in the decoder will both always be 1, therefore:\n",
    "        # hidden = [n layers, batch size, hidden dim]\n",
    "        # context = [n layers, batch size, hidden dim]\n",
    "        input = input.unsqueeze(0)\n",
    "        # input = [1, batch size, dense_vector_dim + 768]\n",
    "        output, (hidden, cell) = self.rnn(input, (hidden, cell))\n",
    "        # output = [seq length, batch size, hidden dim * n directions]\n",
    "        # hidden = [n layers * n directions, batch size, hidden dim]\n",
    "        # cell = [n layers * n directions, batch size, hidden dim]\n",
    "        # seq length and n directions will always be 1 in this decoder, therefore:\n",
    "        # output = [1, batch size, hidden dim]\n",
    "        # hidden = [n layers, batch size, hidden dim]\n",
    "        # cell = [n layers, batch size, hidden dim]\n",
    "        prediction = self.fc_out(output.squeeze(0))\n",
    "        # prediction = [batch size, output dim]\n",
    "        input = input.squeeze(0)\n",
    "        prediction = input[:, 0:57] + prediction\n",
    "        \n",
    "        return prediction, hidden, cell"
   ]
  },
  {
   "cell_type": "code",
   "execution_count": 114,
   "metadata": {},
   "outputs": [],
   "source": [
    "class Seq2Seq(nn.Module):\n",
    "    def __init__(self, encoder, decoder, actionclassifier, device):\n",
    "        super().__init__()\n",
    "        self.encoder = encoder\n",
    "        self.decoder = decoder\n",
    "        self.actionclassifier = actionclassifier\n",
    "        self.device = device\n",
    "        assert (\n",
    "            encoder.hidden_dim == decoder.hidden_dim\n",
    "        ), \"Hidden dimensions of encoder and decoder must be equal!\"\n",
    "        assert (\n",
    "            encoder.n_layers == decoder.n_layers\n",
    "        ), \"Encoder and decoder must have equal number of layers!\"\n",
    "\n",
    "    def forward(self, src, trg, input_ids, attention_mask, teacher_forcing_ratio):\n",
    "        # src = [src length, batch size, dense_vector_dim]\n",
    "        # trg = [trg length, batch size, dense_vector_dim]\n",
    "        # teacher_forcing_ratio is probability to use teacher forcing\n",
    "        # e.g. if teacher_forcing_ratio is 0.75 we use ground-truth inputs 75% of the time\n",
    "        batch_size = trg.shape[1]\n",
    "        trg_length = trg.shape[0]\n",
    "        trg_vocab_size = self.decoder.output_dim\n",
    "\n",
    "        desc_emb = self.actionclassifier(input_ids, attention_mask)\n",
    "        \n",
    "        desc_emb_en = desc_emb.unsqueeze(0).expand(src.size(0), desc_emb.size(0), desc_emb.size(1))\n",
    "\n",
    "        src = torch.cat((src, desc_emb_en), dim=-1)\n",
    "\n",
    "        # tensor to store decoder outputs\n",
    "        outputs = torch.zeros(trg_length, batch_size, trg_vocab_size).to(self.device)\n",
    "        # last hidden state of the encoder is used as the initial hidden state of the decoder\n",
    "        hidden, cell = self.encoder(src)\n",
    "        # hidden = [n layers * n directions, batch size, hidden dim]\n",
    "        # cell = [n layers * n directions, batch size, hidden dim]\n",
    "\n",
    "        desc_emb_dec = desc_emb.unsqueeze(0).expand(trg.size(0), desc_emb.size(0), desc_emb.size(1))\n",
    "        trg = torch.cat((trg, desc_emb_dec), dim=-1)\n",
    "\n",
    "        input = src[-1, :]\n",
    "        # input = [batch size, output_dim]\n",
    "        for t in range(trg_length):\n",
    "            # insert input token embedding, previous hidden and previous cell states\n",
    "            # receive output tensor (predictions) and new hidden and cell states\n",
    "            output, hidden, cell = self.decoder(input, hidden, cell)\n",
    "            # output = [batch size, output dim]\n",
    "            # hidden = [n layers, batch size, hidden dim]\n",
    "            # cell = [n layers, batch size, hidden dim]\n",
    "            # place predictions in a tensor holding predictions for each token\n",
    "            outputs[t] = output\n",
    "\n",
    "            output = torch.cat((output, desc_emb_dec[t]), dim=-1)\n",
    "            # outputs = [trg_lenght, batch_size, dense_vector_dim]\n",
    "            # decide if we are going to use teacher forcing or not\n",
    "            teacher_force = random.random() < teacher_forcing_ratio\n",
    "            # get the highest predicted token from our predictions\n",
    "            # top1 = output.argmax(1)\n",
    "            # if teacher forcing, use actual next token as next input\n",
    "            # if not, use predicted token\n",
    "            input = trg[t] if teacher_force else output\n",
    "            # input = [batch size]\n",
    "        \n",
    "        return outputs"
   ]
  },
  {
   "cell_type": "code",
   "execution_count": 115,
   "metadata": {},
   "outputs": [],
   "source": [
    "\n",
    "dense_vector_encoder_dim = 57 \n",
    "dense_vector_decoder_dim = 57 \n",
    "hidden_dim = 256\n",
    "lr = 2e-5\n",
    "n_layers = 1\n",
    "encoder_dropout = 0\n",
    "decoder_dropout = 0\n",
    "device = torch.device(\"cuda\" if torch.cuda.is_available() else \"cpu\")\n",
    "\n",
    "# actionclassifier = ActionClassifier()\n",
    "\n",
    "# encoder = Encoder(\n",
    "#     dense_vector_encoder_dim,\n",
    "#     hidden_dim,\n",
    "#     n_layers,\n",
    "#     encoder_dropout,\n",
    "# )\n",
    "\n",
    "# decoder = Decoder(\n",
    "#     dense_vector_decoder_dim,\n",
    "#     hidden_dim,\n",
    "#     n_layers,\n",
    "#     decoder_dropout,\n",
    "# )\n",
    "\n",
    "# model = Seq2Seq(encoder, decoder, actionclassifier, device).to(device)"
   ]
  },
  {
   "cell_type": "code",
   "execution_count": 116,
   "metadata": {},
   "outputs": [],
   "source": [
    "# def init_weights(m):\n",
    "#     for name, param in m.named_parameters():\n",
    "#         nn.init.uniform_(param.data, -0.08, 0.08)\n",
    "\n",
    "# model.apply(init_weights)"
   ]
  },
  {
   "cell_type": "code",
   "execution_count": 117,
   "metadata": {},
   "outputs": [],
   "source": [
    "# Number of iterations\n",
    "EPOCHS = 500\n",
    "\n",
    "# Optimizer Adam\n",
    "# optimizer = optim.Adam(model.parameters(), lr=2e-5)\n",
    "\n",
    "# total_steps = len(train_data_loader) * EPOCHS\n",
    "\n",
    "# scheduler = get_linear_schedule_with_warmup(\n",
    "#     optimizer,\n",
    "#     num_warmup_steps=0,\n",
    "#     num_training_steps=total_steps\n",
    "# )"
   ]
  },
  {
   "cell_type": "code",
   "execution_count": 118,
   "metadata": {},
   "outputs": [],
   "source": [
    "def train_fn(\n",
    "    model, data_loader, optimizer, clip, teacher_forcing_ratio, scheduler, device):\n",
    "    model.train()\n",
    "    epoch_loss = 0\n",
    "    num_mocap = 0\n",
    "    for batch in data_loader:\n",
    "        src_lenght = 50\n",
    "        trg_lenght = 25\n",
    "\n",
    "        src = batch[\"pose\"][:src_lenght].to(device)\n",
    "        trg = batch[\"pose\"][-trg_lenght:].to(device)\n",
    "        # src = [src length, batch size, dense_vector_dim]\n",
    "        # trg = [trg length, batch size, dense_vector_dim]\n",
    "\n",
    "        input_ids = batch[\"input_ids\"].to(device)\n",
    "        attention_mask = batch[\"attention_mask\"].to(device)\n",
    "        \n",
    "        optimizer.zero_grad()\n",
    "        output = model(src, trg, input_ids, attention_mask, teacher_forcing_ratio)\n",
    "        # output = [trg length, batch size, dense_vector_dim]\n",
    "        output_dim = output.shape[-1]\n",
    "        output = output[:].view(-1, output_dim)\n",
    "        # output = [trg length * batch size, dense_vector_dim]\n",
    "        trg = trg[:].view(-1, output_dim)\n",
    "        # trg = [trg length * batch size, dense_vector_dim]\n",
    "        loss = torch.square(output - trg) # loss = criterion(output, trg)\n",
    "        loss = torch.sum(loss)\n",
    "        loss.backward()\n",
    "        torch.nn.utils.clip_grad_norm_(model.parameters(), clip)\n",
    "        optimizer.step()\n",
    "        scheduler.step()\n",
    "\n",
    "        epoch_loss += loss.item()\n",
    "        num_mocap += src.shape[1]\n",
    "\n",
    "    return epoch_loss / num_mocap"
   ]
  },
  {
   "cell_type": "code",
   "execution_count": 119,
   "metadata": {},
   "outputs": [],
   "source": [
    "def evaluate_fn(model, data_loader, device):\n",
    "    model.eval()\n",
    "    epoch_loss = 0\n",
    "    num_mocap = 0\n",
    "    with torch.no_grad():\n",
    "        for batch in data_loader:\n",
    "            src_lenght = 50\n",
    "            trg_lenght = 25\n",
    "\n",
    "            src = batch[\"pose\"][:src_lenght].to(device)\n",
    "            trg = batch[\"pose\"][-trg_lenght:].to(device)\n",
    "            # src = [src length, batch size, dense_vector_dim]\n",
    "            # trg = [trg length, batch size, dense_vector_dim]\n",
    "\n",
    "            input_ids = batch[\"input_ids\"].to(device)\n",
    "            attention_mask = batch[\"attention_mask\"].to(device)\n",
    "\n",
    "            output = model(src, trg, input_ids, attention_mask, 0)  # turn off teacher forcing\n",
    "            # output = [trg length, batch size, trg vocab size]\n",
    "            output_dim = output.shape[-1]\n",
    "            output = output[:].view(-1, output_dim)\n",
    "            # output = [trg length * batch size, trg vocab size]\n",
    "            trg = trg[:].view(-1, output_dim)\n",
    "            # trg = [trg length * batch size]\n",
    "            loss = torch.square(output - trg) # loss = criterion(output, trg)\n",
    "            loss = torch.sum(loss)\n",
    "            epoch_loss += loss.item()\n",
    "            num_mocap += src.shape[1]\n",
    "\n",
    "    return epoch_loss / num_mocap"
   ]
  },
  {
   "cell_type": "code",
   "execution_count": 120,
   "metadata": {},
   "outputs": [
    {
     "name": "stderr",
     "output_type": "stream",
     "text": [
      "  0%|          | 0/500 [00:00<?, ?it/s]/home/michieletto/venv_pmerc/lib/python3.10/site-packages/transformers/tokenization_utils_base.py:2699: FutureWarning: The `pad_to_max_length` argument is deprecated and will be removed in a future version, use `padding=True` or `padding='longest'` to pad to the longest sequence in the batch, or use `padding='max_length'` to pad to a max length. In this case, you can give a specific length with `max_length` (e.g. `max_length=45`) or leave max_length to None to pad to the maximal input size of the model (e.g. 512 for Bert).\n",
      "  warnings.warn(\n",
      "100%|██████████| 500/500 [28:26<00:00,  3.41s/it] \n"
     ]
    },
    {
     "name": "stdout",
     "output_type": "stream",
     "text": [
      "Epoch 1/10\n",
      "22.522576524224473\n"
     ]
    },
    {
     "name": "stderr",
     "output_type": "stream",
     "text": [
      "100%|██████████| 500/500 [28:25<00:00,  3.41s/it] \n"
     ]
    },
    {
     "name": "stdout",
     "output_type": "stream",
     "text": [
      "Epoch 2/10\n",
      "22.522576524224473\n"
     ]
    },
    {
     "name": "stderr",
     "output_type": "stream",
     "text": [
      "100%|██████████| 500/500 [28:25<00:00,  3.41s/it] \n"
     ]
    },
    {
     "name": "stdout",
     "output_type": "stream",
     "text": [
      "Epoch 3/10\n",
      "22.376566792582416\n"
     ]
    },
    {
     "name": "stderr",
     "output_type": "stream",
     "text": [
      "100%|██████████| 500/500 [28:06<00:00,  3.37s/it] \n"
     ]
    },
    {
     "name": "stdout",
     "output_type": "stream",
     "text": [
      "Epoch 4/10\n",
      "22.673402108552256\n"
     ]
    },
    {
     "name": "stderr",
     "output_type": "stream",
     "text": [
      "100%|██████████| 500/500 [28:00<00:00,  3.36s/it] \n"
     ]
    },
    {
     "name": "stdout",
     "output_type": "stream",
     "text": [
      "Epoch 5/10\n",
      "22.649070655906595\n"
     ]
    },
    {
     "name": "stderr",
     "output_type": "stream",
     "text": [
      "100%|██████████| 500/500 [28:23<00:00,  3.41s/it] \n"
     ]
    },
    {
     "name": "stdout",
     "output_type": "stream",
     "text": [
      "Epoch 6/10\n",
      "22.52705802498283\n"
     ]
    },
    {
     "name": "stderr",
     "output_type": "stream",
     "text": [
      "100%|██████████| 500/500 [29:32<00:00,  3.54s/it] \n"
     ]
    },
    {
     "name": "stdout",
     "output_type": "stream",
     "text": [
      "Epoch 7/10\n",
      "22.630275628505608\n"
     ]
    },
    {
     "name": "stderr",
     "output_type": "stream",
     "text": [
      "100%|██████████| 500/500 [28:01<00:00,  3.36s/it] \n"
     ]
    },
    {
     "name": "stdout",
     "output_type": "stream",
     "text": [
      "Epoch 8/10\n",
      "22.60651137802627\n"
     ]
    },
    {
     "name": "stderr",
     "output_type": "stream",
     "text": [
      "100%|██████████| 500/500 [29:29<00:00,  3.54s/it] \n"
     ]
    },
    {
     "name": "stdout",
     "output_type": "stream",
     "text": [
      "Epoch 9/10\n",
      "22.205801492208963\n"
     ]
    },
    {
     "name": "stderr",
     "output_type": "stream",
     "text": [
      "100%|██████████| 500/500 [29:07<00:00,  3.49s/it] "
     ]
    },
    {
     "name": "stdout",
     "output_type": "stream",
     "text": [
      "Epoch 10/10\n",
      "22.787437243339344\n"
     ]
    },
    {
     "name": "stderr",
     "output_type": "stream",
     "text": [
      "\n"
     ]
    }
   ],
   "source": [
    "\n",
    "clip = 1.0\n",
    "teacher_forcing_ratio = 0\n",
    "\n",
    "best_valid_loss = float(\"inf\")\n",
    "history = {\n",
    "    \"train_loss\": [],\n",
    "    \"valid_loss\": [],\n",
    "    \"losses\": []\n",
    "}\n",
    "\n",
    "train_data, test_data = train_test_split(dataset, test_size=0.2, random_state=RANDOM_SEED)\n",
    "valid_data, test_data = train_test_split(test_data, test_size=0.5, random_state=RANDOM_SEED)\n",
    "\n",
    "train_data_loader = get_data_loader(train_data, batch_size, MAX_LEN)\n",
    "valid_data_loader = get_data_loader(valid_data, batch_size, MAX_LEN)\n",
    "test_data_loader = get_data_loader(test_data, batch_size, MAX_LEN)\n",
    "\n",
    "all_seeds = [434345, 434345, 232, 875434, 3232356, 42, 645332, 67789, 3426, 2354]\n",
    "for i in range(10):\n",
    "    # frame_vocab = frame_vocab.sample(frac=1).reset_index(drop=True)\n",
    "    \n",
    "    torch.manual_seed(all_seeds[i])\n",
    "\n",
    "    actionclassifier = ActionClassifier()\n",
    "\n",
    "    encoder = Encoder(\n",
    "        dense_vector_encoder_dim,\n",
    "        hidden_dim,\n",
    "        n_layers,\n",
    "        encoder_dropout,\n",
    "    )\n",
    "\n",
    "    decoder = Decoder(\n",
    "        dense_vector_decoder_dim,\n",
    "        hidden_dim,\n",
    "        n_layers,\n",
    "        decoder_dropout,\n",
    "    )\n",
    "\n",
    "    model = Seq2Seq(encoder, decoder, actionclassifier, device).to(device)\n",
    "\n",
    "    optimizer = optim.Adam(model.parameters(), lr=2e-5)\n",
    "\n",
    "    total_steps = len(train_data_loader) * EPOCHS\n",
    "\n",
    "    scheduler = get_linear_schedule_with_warmup(\n",
    "        optimizer,\n",
    "        num_warmup_steps=0,\n",
    "        num_training_steps=total_steps\n",
    "    )\n",
    "\n",
    "    for epoch in tqdm.tqdm(range(EPOCHS)):\n",
    "        train_loss = train_fn(\n",
    "            model,\n",
    "            train_data_loader,\n",
    "            optimizer,\n",
    "            clip,\n",
    "            teacher_forcing_ratio,\n",
    "            scheduler,\n",
    "            device,\n",
    "        )\n",
    "        history[\"train_loss\"].append(train_loss)\n",
    "\n",
    "        valid_loss = evaluate_fn(\n",
    "            model,\n",
    "            valid_data_loader,\n",
    "            device,\n",
    "        )\n",
    "        history[\"valid_loss\"].append(valid_loss)\n",
    "        \n",
    "        if valid_loss < best_valid_loss:\n",
    "            best_valid_loss = valid_loss\n",
    "            torch.save(model.state_dict(), \"tut1-model.pt\")\n",
    "        # print(f\"\\tTrain Loss: {train_loss:7.3f}\")\n",
    "        # print(f\"\\tValid Loss: {valid_loss:7.3f}\")\n",
    "\n",
    "    history[\"losses\"].append(best_valid_loss)\n",
    "    print(f\"Epoch {i+1}/10\")\n",
    "    print(best_valid_loss)\n",
    "    best_valid_loss = float(\"inf\")\n",
    "    "
   ]
  },
  {
   "cell_type": "code",
   "execution_count": 127,
   "metadata": {},
   "outputs": [
    {
     "name": "stdout",
     "output_type": "stream",
     "text": [
      "[22.522576524224473, 22.522576524224473, 22.376566792582416, 22.673402108552256, 22.649070655906595, 22.52705802498283, 22.630275628505608, 22.60651137802627, 22.205801492208963, 22.787437243339344]\n"
     ]
    }
   ],
   "source": [
    "print(history[\"losses\"])\n",
    "\n",
    "np.savez(\"/home/michieletto/Progetti_per_tesi/Progetto_RNN/Risultati/amass_babel_modificato.npz\", tensor1=history[\"losses\"])"
   ]
  },
  {
   "cell_type": "code",
   "execution_count": 122,
   "metadata": {},
   "outputs": [
    {
     "name": "stdout",
     "output_type": "stream",
     "text": [
      "| Test Loss: 20.724\n"
     ]
    }
   ],
   "source": [
    "model.load_state_dict(torch.load(\"tut1-model.pt\"))\n",
    "\n",
    "test_loss = evaluate_fn(model, test_data_loader, device)\n",
    "\n",
    "print(f\"| Test Loss: {test_loss:.3f}\")"
   ]
  },
  {
   "cell_type": "code",
   "execution_count": 123,
   "metadata": {},
   "outputs": [
    {
     "data": {
      "image/png": "[encoded data removed]",
      "text/plain": [
       "<Figure size 640x480 with 1 Axes>"
      ]
     },
     "metadata": {},
     "output_type": "display_data"
    }
   ],
   "source": [
    "import matplotlib.pyplot as plt\n",
    "\n",
    "#Plot training and validation accuracy\n",
    "plt.plot(history[\"train_loss\"], label='train loss')\n",
    "plt.plot(history[\"valid_loss\"], label='validation loss')\n",
    "\n",
    "# Graph chars\n",
    "plt.title('Training history')\n",
    "plt.ylabel('Accuracy')\n",
    "plt.xlabel('Epoch')\n",
    "plt.legend()\n",
    "plt.ylim([0, 30]);\n"
   ]
  },
  {
   "cell_type": "code",
   "execution_count": 131,
   "metadata": {},
   "outputs": [
    {
     "data": {
      "image/png": "[encoded data removed]",
      "text/plain": [
       "<Figure size 640x480 with 1 Axes>"
      ]
     },
     "metadata": {},
     "output_type": "display_data"
    }
   ],
   "source": [
    "#Plot training and validation accuracy\n",
    "plt.plot(history[\"train_loss\"][3500:4000], label='train loss')\n",
    "plt.plot(history[\"valid_loss\"][3500:4000], label='validation loss')\n",
    "\n",
    "# Graph chars\n",
    "plt.title('Training history')\n",
    "plt.ylabel('Accuracy')\n",
    "plt.xlabel('Epoch')\n",
    "plt.legend()\n",
    "plt.ylim([0, 30]);"
   ]
  },
  {
   "cell_type": "code",
   "execution_count": 124,
   "metadata": {},
   "outputs": [],
   "source": [
    "def prevision_mocap(model, input, device, max_output_length):\n",
    "    model.eval()\n",
    "    with torch.no_grad():\n",
    "        input[\"pose\"] = (torch.tensor(input[\"pose\"]))\n",
    "        input[\"pose\"] = (input[\"pose\"].float()).to(device)\n",
    "        \n",
    "        hidden, cell = model.encoder(input[\"pose\"])\n",
    "        previsions = input[\"pose\"][-1].tolist()\n",
    "\n",
    "        concat_hidden = model.actionclassifier(input[\"input_ids\"].to(device), input[\"attention_mask\"].to(device))\n",
    "        concat_hidden = concat_hidden.unsqueeze(0)\n",
    "\n",
    "        hidden = torch.cat((concat_hidden, hidden), dim=2).to(model.device)\n",
    "        # hidden = [n layers * n directions, batch size, 2*hidden dim]\n",
    "        concat_cell = torch.zeros(1, hidden.shape[1], 768).to(model.device)\n",
    "        cell = torch.cat((concat_cell, cell), dim=2).to(model.device)\n",
    "        # cell = [n layers * n directions, batch size, 2*hidden dim]\n",
    "\n",
    "        for _ in range(max_output_length):\n",
    "            inputs_tensor = torch.tensor([previsions[-1]]).to(device)\n",
    "\n",
    "            output, hidden, cell = model.decoder(inputs_tensor, hidden, cell)\n",
    "            output = output.tolist()\n",
    "            previsions.append(output[0])\n",
    "    \n",
    "    del previsions[0]\n",
    "    return np.array(previsions)\n"
   ]
  },
  {
   "cell_type": "code",
   "execution_count": 125,
   "metadata": {},
   "outputs": [
    {
     "name": "stderr",
     "output_type": "stream",
     "text": [
      "/tmp/ipykernel_45723/1205961236.py:4: UserWarning: To copy construct from a tensor, it is recommended to use sourceTensor.clone().detach() or sourceTensor.clone().detach().requires_grad_(True), rather than torch.tensor(sourceTensor).\n",
      "  input[\"pose\"] = (torch.tensor(input[\"pose\"]))\n"
     ]
    },
    {
     "ename": "RuntimeError",
     "evalue": "input.size(-1) must be equal to input_size. Expected 825, got 57",
     "output_type": "error",
     "traceback": [
      "\u001b[0;31m---------------------------------------------------------------------------\u001b[0m",
      "\u001b[0;31mRuntimeError\u001b[0m                              Traceback (most recent call last)",
      "Cell \u001b[0;32mIn[125], line 17\u001b[0m\n\u001b[1;32m     13\u001b[0m input_dataloader \u001b[38;5;241m=\u001b[39m get_data_loader(test, \u001b[38;5;241m1\u001b[39m, MAX_LEN)\n\u001b[1;32m     15\u001b[0m \u001b[38;5;28minput\u001b[39m \u001b[38;5;241m=\u001b[39m \u001b[38;5;28mnext\u001b[39m(\u001b[38;5;28miter\u001b[39m(input_dataloader))\n\u001b[0;32m---> 17\u001b[0m prevision \u001b[38;5;241m=\u001b[39m \u001b[43mprevision_mocap\u001b[49m\u001b[43m(\u001b[49m\n\u001b[1;32m     18\u001b[0m \u001b[43m    \u001b[49m\u001b[43mmodel\u001b[49m\u001b[43m,\u001b[49m\n\u001b[1;32m     19\u001b[0m \u001b[43m    \u001b[49m\u001b[38;5;28;43minput\u001b[39;49m\u001b[43m,\u001b[49m\n\u001b[1;32m     20\u001b[0m \u001b[43m    \u001b[49m\u001b[43mdevice\u001b[49m\u001b[43m,\u001b[49m\n\u001b[1;32m     21\u001b[0m \u001b[43m    \u001b[49m\u001b[43mmax_output_length\u001b[49m\u001b[43m \u001b[49m\u001b[38;5;241;43m=\u001b[39;49m\u001b[43m \u001b[49m\u001b[43mexpected_output_mocap\u001b[49m\u001b[38;5;241;43m.\u001b[39;49m\u001b[43mshape\u001b[49m\u001b[43m[\u001b[49m\u001b[38;5;241;43m0\u001b[39;49m\u001b[43m]\u001b[49m\n\u001b[1;32m     22\u001b[0m \u001b[43m)\u001b[49m\n\u001b[1;32m     24\u001b[0m \u001b[38;5;28;01mfor\u001b[39;00m i, column \u001b[38;5;129;01min\u001b[39;00m \u001b[38;5;28menumerate\u001b[39m(deleted[\u001b[38;5;241m-\u001b[39m\u001b[38;5;241m25\u001b[39m:]\u001b[38;5;241m.\u001b[39mT):\n\u001b[1;32m     25\u001b[0m     prevision \u001b[38;5;241m=\u001b[39m np\u001b[38;5;241m.\u001b[39minsert(prevision, indexes_to_exclude[i], column, axis\u001b[38;5;241m=\u001b[39m\u001b[38;5;241m1\u001b[39m)\n",
      "Cell \u001b[0;32mIn[124], line 7\u001b[0m, in \u001b[0;36mprevision_mocap\u001b[0;34m(model, input, device, max_output_length)\u001b[0m\n\u001b[1;32m      4\u001b[0m \u001b[38;5;28minput\u001b[39m[\u001b[38;5;124m\"\u001b[39m\u001b[38;5;124mpose\u001b[39m\u001b[38;5;124m\"\u001b[39m] \u001b[38;5;241m=\u001b[39m (torch\u001b[38;5;241m.\u001b[39mtensor(\u001b[38;5;28minput\u001b[39m[\u001b[38;5;124m\"\u001b[39m\u001b[38;5;124mpose\u001b[39m\u001b[38;5;124m\"\u001b[39m]))\n\u001b[1;32m      5\u001b[0m \u001b[38;5;28minput\u001b[39m[\u001b[38;5;124m\"\u001b[39m\u001b[38;5;124mpose\u001b[39m\u001b[38;5;124m\"\u001b[39m] \u001b[38;5;241m=\u001b[39m (\u001b[38;5;28minput\u001b[39m[\u001b[38;5;124m\"\u001b[39m\u001b[38;5;124mpose\u001b[39m\u001b[38;5;124m\"\u001b[39m]\u001b[38;5;241m.\u001b[39mfloat())\u001b[38;5;241m.\u001b[39mto(device)\n\u001b[0;32m----> 7\u001b[0m hidden, cell \u001b[38;5;241m=\u001b[39m \u001b[43mmodel\u001b[49m\u001b[38;5;241;43m.\u001b[39;49m\u001b[43mencoder\u001b[49m\u001b[43m(\u001b[49m\u001b[38;5;28;43minput\u001b[39;49m\u001b[43m[\u001b[49m\u001b[38;5;124;43m\"\u001b[39;49m\u001b[38;5;124;43mpose\u001b[39;49m\u001b[38;5;124;43m\"\u001b[39;49m\u001b[43m]\u001b[49m\u001b[43m)\u001b[49m\n\u001b[1;32m      8\u001b[0m previsions \u001b[38;5;241m=\u001b[39m \u001b[38;5;28minput\u001b[39m[\u001b[38;5;124m\"\u001b[39m\u001b[38;5;124mpose\u001b[39m\u001b[38;5;124m\"\u001b[39m][\u001b[38;5;241m-\u001b[39m\u001b[38;5;241m1\u001b[39m]\u001b[38;5;241m.\u001b[39mtolist()\n\u001b[1;32m     10\u001b[0m concat_hidden \u001b[38;5;241m=\u001b[39m model\u001b[38;5;241m.\u001b[39mactionclassifier(\u001b[38;5;28minput\u001b[39m[\u001b[38;5;124m\"\u001b[39m\u001b[38;5;124minput_ids\u001b[39m\u001b[38;5;124m\"\u001b[39m]\u001b[38;5;241m.\u001b[39mto(device), \u001b[38;5;28minput\u001b[39m[\u001b[38;5;124m\"\u001b[39m\u001b[38;5;124mattention_mask\u001b[39m\u001b[38;5;124m\"\u001b[39m]\u001b[38;5;241m.\u001b[39mto(device))\n",
      "File \u001b[0;32m~/venv_pmerc/lib/python3.10/site-packages/torch/nn/modules/module.py:1532\u001b[0m, in \u001b[0;36mModule._wrapped_call_impl\u001b[0;34m(self, *args, **kwargs)\u001b[0m\n\u001b[1;32m   1530\u001b[0m     \u001b[38;5;28;01mreturn\u001b[39;00m \u001b[38;5;28mself\u001b[39m\u001b[38;5;241m.\u001b[39m_compiled_call_impl(\u001b[38;5;241m*\u001b[39margs, \u001b[38;5;241m*\u001b[39m\u001b[38;5;241m*\u001b[39mkwargs)  \u001b[38;5;66;03m# type: ignore[misc]\u001b[39;00m\n\u001b[1;32m   1531\u001b[0m \u001b[38;5;28;01melse\u001b[39;00m:\n\u001b[0;32m-> 1532\u001b[0m     \u001b[38;5;28;01mreturn\u001b[39;00m \u001b[38;5;28;43mself\u001b[39;49m\u001b[38;5;241;43m.\u001b[39;49m\u001b[43m_call_impl\u001b[49m\u001b[43m(\u001b[49m\u001b[38;5;241;43m*\u001b[39;49m\u001b[43margs\u001b[49m\u001b[43m,\u001b[49m\u001b[43m \u001b[49m\u001b[38;5;241;43m*\u001b[39;49m\u001b[38;5;241;43m*\u001b[39;49m\u001b[43mkwargs\u001b[49m\u001b[43m)\u001b[49m\n",
      "File \u001b[0;32m~/venv_pmerc/lib/python3.10/site-packages/torch/nn/modules/module.py:1541\u001b[0m, in \u001b[0;36mModule._call_impl\u001b[0;34m(self, *args, **kwargs)\u001b[0m\n\u001b[1;32m   1536\u001b[0m \u001b[38;5;66;03m# If we don't have any hooks, we want to skip the rest of the logic in\u001b[39;00m\n\u001b[1;32m   1537\u001b[0m \u001b[38;5;66;03m# this function, and just call forward.\u001b[39;00m\n\u001b[1;32m   1538\u001b[0m \u001b[38;5;28;01mif\u001b[39;00m \u001b[38;5;129;01mnot\u001b[39;00m (\u001b[38;5;28mself\u001b[39m\u001b[38;5;241m.\u001b[39m_backward_hooks \u001b[38;5;129;01mor\u001b[39;00m \u001b[38;5;28mself\u001b[39m\u001b[38;5;241m.\u001b[39m_backward_pre_hooks \u001b[38;5;129;01mor\u001b[39;00m \u001b[38;5;28mself\u001b[39m\u001b[38;5;241m.\u001b[39m_forward_hooks \u001b[38;5;129;01mor\u001b[39;00m \u001b[38;5;28mself\u001b[39m\u001b[38;5;241m.\u001b[39m_forward_pre_hooks\n\u001b[1;32m   1539\u001b[0m         \u001b[38;5;129;01mor\u001b[39;00m _global_backward_pre_hooks \u001b[38;5;129;01mor\u001b[39;00m _global_backward_hooks\n\u001b[1;32m   1540\u001b[0m         \u001b[38;5;129;01mor\u001b[39;00m _global_forward_hooks \u001b[38;5;129;01mor\u001b[39;00m _global_forward_pre_hooks):\n\u001b[0;32m-> 1541\u001b[0m     \u001b[38;5;28;01mreturn\u001b[39;00m \u001b[43mforward_call\u001b[49m\u001b[43m(\u001b[49m\u001b[38;5;241;43m*\u001b[39;49m\u001b[43margs\u001b[49m\u001b[43m,\u001b[49m\u001b[43m \u001b[49m\u001b[38;5;241;43m*\u001b[39;49m\u001b[38;5;241;43m*\u001b[39;49m\u001b[43mkwargs\u001b[49m\u001b[43m)\u001b[49m\n\u001b[1;32m   1543\u001b[0m \u001b[38;5;28;01mtry\u001b[39;00m:\n\u001b[1;32m   1544\u001b[0m     result \u001b[38;5;241m=\u001b[39m \u001b[38;5;28;01mNone\u001b[39;00m\n",
      "Cell \u001b[0;32mIn[112], line 11\u001b[0m, in \u001b[0;36mEncoder.forward\u001b[0;34m(self, src)\u001b[0m\n\u001b[1;32m      8\u001b[0m \u001b[38;5;28;01mdef\u001b[39;00m \u001b[38;5;21mforward\u001b[39m(\u001b[38;5;28mself\u001b[39m, src):\n\u001b[1;32m      9\u001b[0m     \n\u001b[1;32m     10\u001b[0m     \u001b[38;5;66;03m# src = [src length, batch size, dense_vector_dim]\u001b[39;00m\n\u001b[0;32m---> 11\u001b[0m     outputs, (hidden, cell) \u001b[38;5;241m=\u001b[39m \u001b[38;5;28;43mself\u001b[39;49m\u001b[38;5;241;43m.\u001b[39;49m\u001b[43mrnn\u001b[49m\u001b[43m(\u001b[49m\u001b[43msrc\u001b[49m\u001b[43m)\u001b[49m\n\u001b[1;32m     12\u001b[0m     \u001b[38;5;66;03m# outputs = [src length, batch size, hidden dim * n directions]\u001b[39;00m\n\u001b[1;32m     13\u001b[0m     \u001b[38;5;66;03m# hidden = [n layers * n directions, batch size, hidden dim]\u001b[39;00m\n\u001b[1;32m     14\u001b[0m     \u001b[38;5;66;03m# cell = [n layers * n directions, batch size, hidden dim]\u001b[39;00m\n\u001b[1;32m     15\u001b[0m     \u001b[38;5;66;03m# outputs are always from the top hidden layer\u001b[39;00m\n\u001b[1;32m     16\u001b[0m     \u001b[38;5;28;01mreturn\u001b[39;00m hidden, cell\n",
      "File \u001b[0;32m~/venv_pmerc/lib/python3.10/site-packages/torch/nn/modules/module.py:1532\u001b[0m, in \u001b[0;36mModule._wrapped_call_impl\u001b[0;34m(self, *args, **kwargs)\u001b[0m\n\u001b[1;32m   1530\u001b[0m     \u001b[38;5;28;01mreturn\u001b[39;00m \u001b[38;5;28mself\u001b[39m\u001b[38;5;241m.\u001b[39m_compiled_call_impl(\u001b[38;5;241m*\u001b[39margs, \u001b[38;5;241m*\u001b[39m\u001b[38;5;241m*\u001b[39mkwargs)  \u001b[38;5;66;03m# type: ignore[misc]\u001b[39;00m\n\u001b[1;32m   1531\u001b[0m \u001b[38;5;28;01melse\u001b[39;00m:\n\u001b[0;32m-> 1532\u001b[0m     \u001b[38;5;28;01mreturn\u001b[39;00m \u001b[38;5;28;43mself\u001b[39;49m\u001b[38;5;241;43m.\u001b[39;49m\u001b[43m_call_impl\u001b[49m\u001b[43m(\u001b[49m\u001b[38;5;241;43m*\u001b[39;49m\u001b[43margs\u001b[49m\u001b[43m,\u001b[49m\u001b[43m \u001b[49m\u001b[38;5;241;43m*\u001b[39;49m\u001b[38;5;241;43m*\u001b[39;49m\u001b[43mkwargs\u001b[49m\u001b[43m)\u001b[49m\n",
      "File \u001b[0;32m~/venv_pmerc/lib/python3.10/site-packages/torch/nn/modules/module.py:1541\u001b[0m, in \u001b[0;36mModule._call_impl\u001b[0;34m(self, *args, **kwargs)\u001b[0m\n\u001b[1;32m   1536\u001b[0m \u001b[38;5;66;03m# If we don't have any hooks, we want to skip the rest of the logic in\u001b[39;00m\n\u001b[1;32m   1537\u001b[0m \u001b[38;5;66;03m# this function, and just call forward.\u001b[39;00m\n\u001b[1;32m   1538\u001b[0m \u001b[38;5;28;01mif\u001b[39;00m \u001b[38;5;129;01mnot\u001b[39;00m (\u001b[38;5;28mself\u001b[39m\u001b[38;5;241m.\u001b[39m_backward_hooks \u001b[38;5;129;01mor\u001b[39;00m \u001b[38;5;28mself\u001b[39m\u001b[38;5;241m.\u001b[39m_backward_pre_hooks \u001b[38;5;129;01mor\u001b[39;00m \u001b[38;5;28mself\u001b[39m\u001b[38;5;241m.\u001b[39m_forward_hooks \u001b[38;5;129;01mor\u001b[39;00m \u001b[38;5;28mself\u001b[39m\u001b[38;5;241m.\u001b[39m_forward_pre_hooks\n\u001b[1;32m   1539\u001b[0m         \u001b[38;5;129;01mor\u001b[39;00m _global_backward_pre_hooks \u001b[38;5;129;01mor\u001b[39;00m _global_backward_hooks\n\u001b[1;32m   1540\u001b[0m         \u001b[38;5;129;01mor\u001b[39;00m _global_forward_hooks \u001b[38;5;129;01mor\u001b[39;00m _global_forward_pre_hooks):\n\u001b[0;32m-> 1541\u001b[0m     \u001b[38;5;28;01mreturn\u001b[39;00m \u001b[43mforward_call\u001b[49m\u001b[43m(\u001b[49m\u001b[38;5;241;43m*\u001b[39;49m\u001b[43margs\u001b[49m\u001b[43m,\u001b[49m\u001b[43m \u001b[49m\u001b[38;5;241;43m*\u001b[39;49m\u001b[38;5;241;43m*\u001b[39;49m\u001b[43mkwargs\u001b[49m\u001b[43m)\u001b[49m\n\u001b[1;32m   1543\u001b[0m \u001b[38;5;28;01mtry\u001b[39;00m:\n\u001b[1;32m   1544\u001b[0m     result \u001b[38;5;241m=\u001b[39m \u001b[38;5;28;01mNone\u001b[39;00m\n",
      "File \u001b[0;32m~/venv_pmerc/lib/python3.10/site-packages/torch/nn/modules/rnn.py:892\u001b[0m, in \u001b[0;36mLSTM.forward\u001b[0;34m(self, input, hx)\u001b[0m\n\u001b[1;32m    888\u001b[0m     c_zeros \u001b[38;5;241m=\u001b[39m torch\u001b[38;5;241m.\u001b[39mzeros(\u001b[38;5;28mself\u001b[39m\u001b[38;5;241m.\u001b[39mnum_layers \u001b[38;5;241m*\u001b[39m num_directions,\n\u001b[1;32m    889\u001b[0m                           max_batch_size, \u001b[38;5;28mself\u001b[39m\u001b[38;5;241m.\u001b[39mhidden_size,\n\u001b[1;32m    890\u001b[0m                           dtype\u001b[38;5;241m=\u001b[39m\u001b[38;5;28minput\u001b[39m\u001b[38;5;241m.\u001b[39mdtype, device\u001b[38;5;241m=\u001b[39m\u001b[38;5;28minput\u001b[39m\u001b[38;5;241m.\u001b[39mdevice)\n\u001b[1;32m    891\u001b[0m     hx \u001b[38;5;241m=\u001b[39m (h_zeros, c_zeros)\n\u001b[0;32m--> 892\u001b[0m     \u001b[38;5;28;43mself\u001b[39;49m\u001b[38;5;241;43m.\u001b[39;49m\u001b[43mcheck_forward_args\u001b[49m\u001b[43m(\u001b[49m\u001b[38;5;28;43minput\u001b[39;49m\u001b[43m,\u001b[49m\u001b[43m \u001b[49m\u001b[43mhx\u001b[49m\u001b[43m,\u001b[49m\u001b[43m \u001b[49m\u001b[43mbatch_sizes\u001b[49m\u001b[43m)\u001b[49m\n\u001b[1;32m    893\u001b[0m \u001b[38;5;28;01melse\u001b[39;00m:\n\u001b[1;32m    894\u001b[0m     \u001b[38;5;28;01mif\u001b[39;00m is_batched:\n",
      "File \u001b[0;32m~/venv_pmerc/lib/python3.10/site-packages/torch/nn/modules/rnn.py:821\u001b[0m, in \u001b[0;36mLSTM.check_forward_args\u001b[0;34m(self, input, hidden, batch_sizes)\u001b[0m\n\u001b[1;32m    816\u001b[0m \u001b[38;5;28;01mdef\u001b[39;00m \u001b[38;5;21mcheck_forward_args\u001b[39m(\u001b[38;5;28mself\u001b[39m,  \u001b[38;5;66;03m# type: ignore[override]\u001b[39;00m\n\u001b[1;32m    817\u001b[0m                        \u001b[38;5;28minput\u001b[39m: Tensor,\n\u001b[1;32m    818\u001b[0m                        hidden: Tuple[Tensor, Tensor],\n\u001b[1;32m    819\u001b[0m                        batch_sizes: Optional[Tensor],\n\u001b[1;32m    820\u001b[0m                        ):\n\u001b[0;32m--> 821\u001b[0m     \u001b[38;5;28;43mself\u001b[39;49m\u001b[38;5;241;43m.\u001b[39;49m\u001b[43mcheck_input\u001b[49m\u001b[43m(\u001b[49m\u001b[38;5;28;43minput\u001b[39;49m\u001b[43m,\u001b[49m\u001b[43m \u001b[49m\u001b[43mbatch_sizes\u001b[49m\u001b[43m)\u001b[49m\n\u001b[1;32m    822\u001b[0m     \u001b[38;5;28mself\u001b[39m\u001b[38;5;241m.\u001b[39mcheck_hidden_size(hidden[\u001b[38;5;241m0\u001b[39m], \u001b[38;5;28mself\u001b[39m\u001b[38;5;241m.\u001b[39mget_expected_hidden_size(\u001b[38;5;28minput\u001b[39m, batch_sizes),\n\u001b[1;32m    823\u001b[0m                            \u001b[38;5;124m'\u001b[39m\u001b[38;5;124mExpected hidden[0] size \u001b[39m\u001b[38;5;132;01m{}\u001b[39;00m\u001b[38;5;124m, got \u001b[39m\u001b[38;5;132;01m{}\u001b[39;00m\u001b[38;5;124m'\u001b[39m)\n\u001b[1;32m    824\u001b[0m     \u001b[38;5;28mself\u001b[39m\u001b[38;5;241m.\u001b[39mcheck_hidden_size(hidden[\u001b[38;5;241m1\u001b[39m], \u001b[38;5;28mself\u001b[39m\u001b[38;5;241m.\u001b[39mget_expected_cell_size(\u001b[38;5;28minput\u001b[39m, batch_sizes),\n\u001b[1;32m    825\u001b[0m                            \u001b[38;5;124m'\u001b[39m\u001b[38;5;124mExpected hidden[1] size \u001b[39m\u001b[38;5;132;01m{}\u001b[39;00m\u001b[38;5;124m, got \u001b[39m\u001b[38;5;132;01m{}\u001b[39;00m\u001b[38;5;124m'\u001b[39m)\n",
      "File \u001b[0;32m~/venv_pmerc/lib/python3.10/site-packages/torch/nn/modules/rnn.py:240\u001b[0m, in \u001b[0;36mRNNBase.check_input\u001b[0;34m(self, input, batch_sizes)\u001b[0m\n\u001b[1;32m    237\u001b[0m     \u001b[38;5;28;01mraise\u001b[39;00m \u001b[38;5;167;01mRuntimeError\u001b[39;00m(\n\u001b[1;32m    238\u001b[0m         \u001b[38;5;124mf\u001b[39m\u001b[38;5;124m'\u001b[39m\u001b[38;5;124minput must have \u001b[39m\u001b[38;5;132;01m{\u001b[39;00mexpected_input_dim\u001b[38;5;132;01m}\u001b[39;00m\u001b[38;5;124m dimensions, got \u001b[39m\u001b[38;5;132;01m{\u001b[39;00m\u001b[38;5;28minput\u001b[39m\u001b[38;5;241m.\u001b[39mdim()\u001b[38;5;132;01m}\u001b[39;00m\u001b[38;5;124m'\u001b[39m)\n\u001b[1;32m    239\u001b[0m \u001b[38;5;28;01mif\u001b[39;00m \u001b[38;5;28mself\u001b[39m\u001b[38;5;241m.\u001b[39minput_size \u001b[38;5;241m!=\u001b[39m \u001b[38;5;28minput\u001b[39m\u001b[38;5;241m.\u001b[39msize(\u001b[38;5;241m-\u001b[39m\u001b[38;5;241m1\u001b[39m):\n\u001b[0;32m--> 240\u001b[0m     \u001b[38;5;28;01mraise\u001b[39;00m \u001b[38;5;167;01mRuntimeError\u001b[39;00m(\n\u001b[1;32m    241\u001b[0m         \u001b[38;5;124mf\u001b[39m\u001b[38;5;124m'\u001b[39m\u001b[38;5;124minput.size(-1) must be equal to input_size. Expected \u001b[39m\u001b[38;5;132;01m{\u001b[39;00m\u001b[38;5;28mself\u001b[39m\u001b[38;5;241m.\u001b[39minput_size\u001b[38;5;132;01m}\u001b[39;00m\u001b[38;5;124m, got \u001b[39m\u001b[38;5;132;01m{\u001b[39;00m\u001b[38;5;28minput\u001b[39m\u001b[38;5;241m.\u001b[39msize(\u001b[38;5;241m-\u001b[39m\u001b[38;5;241m1\u001b[39m)\u001b[38;5;132;01m}\u001b[39;00m\u001b[38;5;124m'\u001b[39m)\n",
      "\u001b[0;31mRuntimeError\u001b[0m: input.size(-1) must be equal to input_size. Expected 825, got 57"
     ]
    }
   ],
   "source": [
    "rand_x = random.randint(0, len(dataset_copy[\"pose\"]))\n",
    "\n",
    "input_mocap = np.array(dataset_copy[\"pose\"][rand_x][:50])\n",
    "\n",
    "deleted = input_mocap[:, indexes_to_exclude]\n",
    "\n",
    "input_mocap_test = np.delete(input_mocap, indexes_to_exclude, axis=1)\n",
    "\n",
    "expected_output_mocap = np.array(dataset_copy[\"pose\"][rand_x][-25:])\n",
    "\n",
    "test = {'pose': [input_mocap_test], 'description': [dataset_copy[\"description\"][rand_x]]}\n",
    "test = pd.DataFrame(test)\n",
    "input_dataloader = get_data_loader(test, 1, MAX_LEN)\n",
    "\n",
    "input = next(iter(input_dataloader))\n",
    "\n",
    "prevision = prevision_mocap(\n",
    "    model,\n",
    "    input,\n",
    "    device,\n",
    "    max_output_length = expected_output_mocap.shape[0]\n",
    ")\n",
    "\n",
    "for i, column in enumerate(deleted[-25:].T):\n",
    "    prevision = np.insert(prevision, indexes_to_exclude[i], column, axis=1)\n",
    "\n",
    "input_mocap = input_mocap.reshape(50, 24, 3)\n",
    "print(input_mocap.shape)\n",
    "\n",
    "expected_output_mocap = expected_output_mocap.reshape(25, 24, 3)\n",
    "print(expected_output_mocap.shape)\n",
    "\n",
    "prevision = prevision.reshape(25, 24, 3)\n",
    "print(prevision.shape)"
   ]
  },
  {
   "cell_type": "code",
   "execution_count": null,
   "metadata": {},
   "outputs": [],
   "source": [
    "\n",
    "input_mocap = kine.compute_fk(input_mocap, apply_root_rotation=True)\n",
    "expected_output_mocap = kine.compute_fk(expected_output_mocap, apply_root_rotation=True)\n",
    "prevision = kine.compute_fk(prevision, apply_root_rotation=True)\n",
    "\n",
    "motions_list = [[input_mocap], [expected_output_mocap, prevision]]\n",
    "subplot_ids = [[0], [0,1]]\n",
    "subplot_titles = [['Input_mocap'], ['Expected_output_mocap', 'Prevision']]\n",
    "camera_orientations = [[CameraOrientation(100, 20)], [CameraOrientation(100, 20), CameraOrientation(100, 20)]]\n",
    "\n",
    "pose_animation(motions_list[0], SmplConstants.PARENTS, animation_framerate = 25, subplot_ids=subplot_ids[0], \n",
    "               camera_orientations=camera_orientations[0], subplot_titles=subplot_titles[0],\n",
    "               fig_opts={'dpi':90}, animation_mode=AnimationMode.HTML)\n",
    "\n",
    "pose_animation(motions_list[1], SmplConstants.PARENTS, animation_framerate = 25, subplot_ids=subplot_ids[1], \n",
    "               camera_orientations=camera_orientations[1], subplot_titles=subplot_titles[1],\n",
    "               animation_mode=AnimationMode.HTML)"
   ]
  }
 ],
 "metadata": {
  "kernelspec": {
   "display_name": "venv",
   "language": "python",
   "name": "python3"
  },
  "language_info": {
   "codemirror_mode": {
    "name": "ipython",
    "version": 3
   },
   "file_extension": ".py",
   "mimetype": "text/x-python",
   "name": "python",
   "nbconvert_exporter": "python",
   "pygments_lexer": "ipython3",
   "version": "3.10.6"
  }
 },
 "nbformat": 4,
 "nbformat_minor": 2
}
